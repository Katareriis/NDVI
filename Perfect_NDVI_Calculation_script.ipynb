{
 "cells": [
  {
   "cell_type": "code",
   "execution_count": 10,
   "id": "ee2387b9",
   "metadata": {},
   "outputs": [],
   "source": [
    "import rasterio     # import the main rasterio function\n",
    "from rasterio.plot import show, show_hist # some specific rasterio functions we'll need\n",
    "\n",
    "import matplotlib   # matplotlib is the primary python plotting and viz library\n",
    "import matplotlib.pyplot as plt\n",
    "\n",
    "# this bit of magic allows matplotlib to plot inline ina  jupyter notebook\n",
    "%matplotlib inline  \n",
    "import folium       # folium is an interactive mapping library\n",
    "\n",
    "# Import the numpy module\n",
    "import numpy as np"
   ]
  },
  {
   "cell_type": "code",
   "execution_count": 12,
   "id": "23cdfddd",
   "metadata": {},
   "outputs": [
    {
     "data": {
      "text/plain": [
       "(2, 10980, 10980)"
      ]
     },
     "execution_count": 12,
     "metadata": {},
     "output_type": "execute_result"
    }
   ],
   "source": [
    "# add all the file paths to a list\n",
    "s2_bands = [\"D:\\sentinel_sat\\S2A_MSIL2A_20220110T041141_N0301_R047_T46QHE_20220110T062549.SAFE\\GRANULE\\L2A_T46QHE_A034221_20220110T042107\\IMG_DATA\\R10m\\T46QHE_20220110T041141_B04_10m.jp2\", \n",
    "            \"D:\\sentinel_sat\\S2A_MSIL2A_20220110T041141_N0301_R047_T46QHE_20220110T062549.SAFE\\GRANULE\\L2A_T46QHE_A034221_20220110T042107\\IMG_DATA\\R10m\\T46QHE_20220110T041141_B08_10m.jp2\"]\n",
    "        \n",
    "# open these files and add all bands to an array\n",
    "arrs = []\n",
    "for band in s2_bands:\n",
    "    with rasterio.open(band) as f:\n",
    "        arrs.append(f.read(1))\n",
    "\n",
    "# convert the list to a numpy array\n",
    "sentinel_img = np.array(arrs, dtype=arrs[0].dtype)\n",
    "# let's check the shape of this array\n",
    "sentinel_img.shape"
   ]
  },
  {
   "cell_type": "markdown",
   "id": "3726f5ec",
   "metadata": {},
   "source": [
    "# We'll clip this image slightly just in case of memory constraints on potential user's computers and for faster visualization."
   ]
  },
  {
   "cell_type": "code",
   "execution_count": 13,
   "id": "0fd003fd",
   "metadata": {},
   "outputs": [
    {
     "data": {
      "text/plain": [
       "(2, 750, 1500)"
      ]
     },
     "execution_count": 13,
     "metadata": {},
     "output_type": "execute_result"
    }
   ],
   "source": [
    "clipped_img = sentinel_img[:, 0:750:, 0:1500]\n",
    "clipped_img.shape"
   ]
  },
  {
   "cell_type": "markdown",
   "id": "5fa78d1b",
   "metadata": {},
   "source": [
    "# Let's take a look at the image:\n",
    "Here we're going to use the rasterio show function which is a wrapper on matplotlib and allows us to plot a raster easily. We also are going to subset the clipped_img to just look at the first three bands so it will be an RGB image."
   ]
  },
  {
   "cell_type": "code",
   "execution_count": 14,
   "id": "daaeae1f",
   "metadata": {},
   "outputs": [
    {
     "ename": "IndexError",
     "evalue": "index 2 is out of bounds for axis 0 with size 2",
     "output_type": "error",
     "traceback": [
      "\u001b[1;31m---------------------------------------------------------------------------\u001b[0m",
      "\u001b[1;31mIndexError\u001b[0m                                Traceback (most recent call last)",
      "\u001b[1;32m~\\AppData\\Local\\Temp\\ipykernel_18936\\4254105188.py\u001b[0m in \u001b[0;36m<module>\u001b[1;34m\u001b[0m\n\u001b[1;32m----> 1\u001b[1;33m \u001b[0mshow\u001b[0m\u001b[1;33m(\u001b[0m\u001b[0mclipped_img\u001b[0m\u001b[1;33m[\u001b[0m\u001b[1;33m[\u001b[0m\u001b[1;36m2\u001b[0m\u001b[1;33m,\u001b[0m\u001b[1;36m1\u001b[0m\u001b[1;33m,\u001b[0m\u001b[1;36m0\u001b[0m\u001b[1;33m]\u001b[0m\u001b[1;33m,\u001b[0m \u001b[1;33m:\u001b[0m\u001b[1;33m,\u001b[0m \u001b[1;33m:\u001b[0m\u001b[1;33m]\u001b[0m\u001b[1;33m)\u001b[0m\u001b[1;33m\u001b[0m\u001b[1;33m\u001b[0m\u001b[0m\n\u001b[0m",
      "\u001b[1;31mIndexError\u001b[0m: index 2 is out of bounds for axis 0 with size 2"
     ]
    }
   ],
   "source": [
    "show(clipped_img[[2,1,0], :, :])"
   ]
  },
  {
   "cell_type": "markdown",
   "id": "851fd995",
   "metadata": {},
   "source": [
    "# Now let's plot a histogram of pixel values to check what is going on with the different bands:"
   ]
  },
  {
   "cell_type": "code",
   "execution_count": 5,
   "id": "530dbdde",
   "metadata": {},
   "outputs": [
    {
     "data": {
      "image/png": "[encoded data removed]",
      "text/plain": [
       "<Figure size 432x288 with 1 Axes>"
      ]
     },
     "metadata": {
      "needs_background": "light"
     },
     "output_type": "display_data"
    }
   ],
   "source": [
    "rasterio.plot.show_hist(clipped_img, bins=50, histtype='stepfilled', lw=0.0, stacked=False, alpha=0.3)"
   ]
  },
  {
   "cell_type": "code",
   "execution_count": 6,
   "id": "937602f1",
   "metadata": {},
   "outputs": [
    {
     "data": {
      "text/plain": [
       "array([ 537,  779, 1002, 2591], dtype=uint16)"
      ]
     },
     "execution_count": 6,
     "metadata": {},
     "output_type": "execute_result"
    }
   ],
   "source": [
    "clipped_img[:,0,0]"
   ]
  },
  {
   "cell_type": "code",
   "execution_count": 7,
   "id": "45eb0757",
   "metadata": {},
   "outputs": [],
   "source": [
    "# just ignoring this error because the image has lots of NaN pixels\n",
    "np.seterr(divide='ignore', invalid='ignore')\n",
    "\n",
    "bandNIR = clipped_img[2] # Eighth band\n",
    "bandRed = clipped_img[1] # Fourth band\n",
    "\n",
    "# note that in python division of integers leads to integers so we need to specify floats in order to get floats\n",
    "ndvi = (bandNIR.astype(float)-bandRed.astype(float)) / (bandNIR.astype(float)+bandRed.astype(float))"
   ]
  },
  {
   "cell_type": "code",
   "execution_count": 8,
   "id": "410b72ad",
   "metadata": {},
   "outputs": [
    {
     "name": "stdout",
     "output_type": "stream",
     "text": [
      "\n",
      "Max NDVI: nan\n",
      "Mean NDVI: nan\n",
      "Median NDVI: nan\n",
      "Min NDVI: nan\n"
     ]
    }
   ],
   "source": [
    "print('\\nMax NDVI: {m}'.format(m=ndvi.max()))\n",
    "print('Mean NDVI: {m}'.format(m=ndvi.mean()))\n",
    "print('Median NDVI: {m}'.format(m=np.median(ndvi)))\n",
    "print('Min NDVI: {m}'.format(m=ndvi.min()))"
   ]
  },
  {
   "cell_type": "code",
   "execution_count": 9,
   "id": "e44438fc",
   "metadata": {},
   "outputs": [
    {
     "data": {
      "image/png": "[encoded data removed]",
      "text/plain": [
       "<Figure size 432x288 with 2 Axes>"
      ]
     },
     "metadata": {
      "needs_background": "light"
     },
     "output_type": "display_data"
    }
   ],
   "source": [
    "plt.imshow(ndvi, cmap=\"RdYlGn\")\n",
    "plt.colorbar()\n",
    "plt.show()"
   ]
  },
  {
   "cell_type": "code",
   "execution_count": null,
   "id": "6864ed9c",
   "metadata": {},
   "outputs": [],
   "source": []
  }
 ],
 "metadata": {
  "kernelspec": {
   "display_name": "Python 3 (ipykernel)",
   "language": "python",
   "name": "python3"
  },
  "language_info": {
   "codemirror_mode": {
    "name": "ipython",
    "version": 3
   },
   "file_extension": ".py",
   "mimetype": "text/x-python",
   "name": "python",
   "nbconvert_exporter": "python",
   "pygments_lexer": "ipython3",
   "version": "3.10.6"
  }
 },
 "nbformat": 4,
 "nbformat_minor": 5
}
